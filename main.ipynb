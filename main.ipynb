{
 "cells": [
  {
   "cell_type": "code",
   "execution_count": 2,
   "id": "df444575",
   "metadata": {},
   "outputs": [],
   "source": [
    "import re\n",
    "import numpy as np\n",
    "import pandas as pd\n",
    "from sklearn.feature_extraction.text import TfidfVectorizer\n",
    "from sklearn.metrics.pairwise import cosine_similarity\n",
    "from functools import lru_cache\n",
    "import ipywidgets as widgets\n",
    "from IPython.display import display\n",
    "\n"
   ]
  },
  {
   "cell_type": "code",
   "execution_count": 3,
   "id": "90b642e0",
   "metadata": {},
   "outputs": [],
   "source": [
    "movies = pd.read_csv(r'C:\\Users\\admin\\movies.csv')\n",
    "#https://www.kaggle.com/datasets/asaniczka/tmdb-movies-dataset-2023-930k-movies\n",
    "#used dataset"
   ]
  },
  {
   "cell_type": "code",
   "execution_count": 4,
   "id": "21b29ae2",
   "metadata": {},
   "outputs": [
    {
     "name": "stdout",
     "output_type": "stream",
     "text": [
      "Head of the dataset:\n",
      "       id            title  vote_average  vote_count    status release_date  \\\n",
      "0   27205        Inception         8.364       34495  Released   2010-07-15   \n",
      "1  157336     Interstellar         8.417       32571  Released   2014-11-05   \n",
      "2     155  The Dark Knight         8.512       30619  Released   2008-07-16   \n",
      "3   19995           Avatar         7.573       29815  Released   2009-12-15   \n",
      "4   24428     The Avengers         7.710       29166  Released   2012-04-25   \n",
      "\n",
      "      revenue  runtime  adult                     backdrop_path  ...  \\\n",
      "0   825532764      148  False  /8ZTVqvKDQ8emSGUEMjsS4yHAwrp.jpg  ...   \n",
      "1   701729206      169  False  /pbrkL804c8yAv3zBZR4QPEafpAR.jpg  ...   \n",
      "2  1004558444      152  False  /nMKdUUepR0i5zn0y1T4CsSB5chy.jpg  ...   \n",
      "3  2923706026      162  False  /vL5LR6WdxWPjLPFRLe133jXWsh5.jpg  ...   \n",
      "4  1518815515      143  False  /9BBTo63ANSmhC4e6r62OJFuK2GL.jpg  ...   \n",
      "\n",
      "   original_language   original_title  \\\n",
      "0                 en        Inception   \n",
      "1                 en     Interstellar   \n",
      "2                 en  The Dark Knight   \n",
      "3                 en           Avatar   \n",
      "4                 en     The Avengers   \n",
      "\n",
      "                                            overview popularity  \\\n",
      "0  Cobb, a skilled thief who commits corporate es...     83.952   \n",
      "1  The adventures of a group of explorers who mak...    140.241   \n",
      "2  Batman raises the stakes in his war on crime. ...    130.643   \n",
      "3  In the 22nd century, a paraplegic Marine is di...     79.932   \n",
      "4  When an unexpected enemy emerges and threatens...     98.082   \n",
      "\n",
      "                        poster_path  \\\n",
      "0  /oYuLEt3zVCKq57qu2F8dT7NIa6f.jpg   \n",
      "1  /gEU2QniE6E77NI6lCU6MxlNBvIx.jpg   \n",
      "2  /qJ2tW6WMUDux911r6m7haRef0WH.jpg   \n",
      "3  /kyeqWdyUXW608qlYkRqosgbbJyK.jpg   \n",
      "4   /RYMX2wcKCBAr24UyPD7xwmjaTn.jpg   \n",
      "\n",
      "                                             tagline  \\\n",
      "0               Your mind is the scene of the crime.   \n",
      "1  Mankind was born on Earth. It was never meant ...   \n",
      "2                  Welcome to a world without rules.   \n",
      "3                        Enter the world of Pandora.   \n",
      "4                            Some assembly required.   \n",
      "\n",
      "                                        genres  \\\n",
      "0           Action, Science Fiction, Adventure   \n",
      "1            Adventure, Drama, Science Fiction   \n",
      "2               Drama, Action, Crime, Thriller   \n",
      "3  Action, Adventure, Fantasy, Science Fiction   \n",
      "4           Science Fiction, Action, Adventure   \n",
      "\n",
      "                                production_companies  \\\n",
      "0  Legendary Pictures, Syncopy, Warner Bros. Pict...   \n",
      "1  Legendary Pictures, Syncopy, Lynda Obst Produc...   \n",
      "2  DC Comics, Legendary Pictures, Syncopy, Isobel...   \n",
      "3  Dune Entertainment, Lightstorm Entertainment, ...   \n",
      "4                                     Marvel Studios   \n",
      "\n",
      "                       production_countries  \\\n",
      "0  United Kingdom, United States of America   \n",
      "1  United Kingdom, United States of America   \n",
      "2  United Kingdom, United States of America   \n",
      "3  United States of America, United Kingdom   \n",
      "4                  United States of America   \n",
      "\n",
      "                     spoken_languages  \n",
      "0  English, French, Japanese, Swahili  \n",
      "1                             English  \n",
      "2                   English, Mandarin  \n",
      "3                    English, Spanish  \n",
      "4             English, Hindi, Russian  \n",
      "\n",
      "[5 rows x 23 columns]\n"
     ]
    }
   ],
   "source": [
    "print(\"Head of the dataset:\")\n",
    "print(movies.head())"
   ]
  },
  {
   "cell_type": "code",
   "execution_count": 5,
   "id": "d92f941b",
   "metadata": {},
   "outputs": [
    {
     "name": "stdout",
     "output_type": "stream",
     "text": [
      "\n",
      "Summary statistics:\n",
      "                 id   vote_average     vote_count       revenue  \\\n",
      "count  9.787430e+05  978743.000000  978743.000000  9.787430e+05   \n",
      "mean   6.486576e+05       2.145069      21.910045  7.552866e+05   \n",
      "std    3.474492e+05       3.125145     343.145266  1.800109e+07   \n",
      "min    2.000000e+00       0.000000       0.000000 -1.200000e+01   \n",
      "25%    3.636025e+05       0.000000       0.000000  0.000000e+00   \n",
      "50%    6.503540e+05       0.000000       0.000000  0.000000e+00   \n",
      "75%    9.514595e+05       5.000000       1.000000  0.000000e+00   \n",
      "max    1.230246e+06      10.000000   34495.000000  3.000000e+09   \n",
      "\n",
      "             runtime        budget     popularity  \n",
      "count  978743.000000  9.787430e+05  978743.000000  \n",
      "mean       51.072760  2.970264e+05       1.377591  \n",
      "std        62.354375  5.103793e+06       8.165239  \n",
      "min         0.000000  0.000000e+00       0.000000  \n",
      "25%         1.000000  0.000000e+00       0.600000  \n",
      "50%        32.000000  0.000000e+00       0.600000  \n",
      "75%        90.000000  0.000000e+00       0.930000  \n",
      "max     14400.000000  8.880000e+08    2994.357000  \n"
     ]
    }
   ],
   "source": [
    "print(\"\\nSummary statistics:\")\n",
    "print(movies.describe())"
   ]
  },
  {
   "cell_type": "code",
   "execution_count": 6,
   "id": "be9f5a60",
   "metadata": {},
   "outputs": [
    {
     "name": "stdout",
     "output_type": "stream",
     "text": [
      "\n",
      "Info about the dataset:\n",
      "<class 'pandas.core.frame.DataFrame'>\n",
      "RangeIndex: 978743 entries, 0 to 978742\n",
      "Data columns (total 23 columns):\n",
      " #   Column                Non-Null Count   Dtype  \n",
      "---  ------                --------------   -----  \n",
      " 0   id                    978743 non-null  int64  \n",
      " 1   title                 978731 non-null  object \n",
      " 2   vote_average          978743 non-null  float64\n",
      " 3   vote_count            978743 non-null  int64  \n",
      " 4   status                978743 non-null  object \n",
      " 5   release_date          875577 non-null  object \n",
      " 6   revenue               978743 non-null  int64  \n",
      " 7   runtime               978743 non-null  int64  \n",
      " 8   adult                 978743 non-null  bool   \n",
      " 9   backdrop_path         281262 non-null  object \n",
      " 10  budget                978743 non-null  int64  \n",
      " 11  homepage              106352 non-null  object \n",
      " 12  imdb_id               565526 non-null  object \n",
      " 13  original_language     978743 non-null  object \n",
      " 14  original_title        978731 non-null  object \n",
      " 15  overview              804104 non-null  object \n",
      " 16  popularity            978743 non-null  float64\n",
      " 17  poster_path           715804 non-null  object \n",
      " 18  tagline               140847 non-null  object \n",
      " 19  genres                624245 non-null  object \n",
      " 20  production_companies  470531 non-null  object \n",
      " 21  production_countries  587334 non-null  object \n",
      " 22  spoken_languages      595636 non-null  object \n",
      "dtypes: bool(1), float64(2), int64(5), object(15)\n",
      "memory usage: 165.2+ MB\n",
      "None\n"
     ]
    }
   ],
   "source": [
    "print(\"\\nInfo about the dataset:\")\n",
    "print(movies.info())\n"
   ]
  },
  {
   "cell_type": "code",
   "execution_count": 7,
   "id": "b5b49a7e",
   "metadata": {},
   "outputs": [
    {
     "name": "stdout",
     "output_type": "stream",
     "text": [
      "\n",
      "Missing values:\n",
      "id                           0\n",
      "title                       12\n",
      "vote_average                 0\n",
      "vote_count                   0\n",
      "status                       0\n",
      "release_date            103166\n",
      "revenue                      0\n",
      "runtime                      0\n",
      "adult                        0\n",
      "backdrop_path           697481\n",
      "budget                       0\n",
      "homepage                872391\n",
      "imdb_id                 413217\n",
      "original_language            0\n",
      "original_title              12\n",
      "overview                174639\n",
      "popularity                   0\n",
      "poster_path             262939\n",
      "tagline                 837896\n",
      "genres                  354498\n",
      "production_companies    508212\n",
      "production_countries    391409\n",
      "spoken_languages        383107\n",
      "dtype: int64\n"
     ]
    }
   ],
   "source": [
    "print(\"\\nMissing values:\")\n",
    "print(movies.isnull().sum())"
   ]
  },
  {
   "cell_type": "code",
   "execution_count": 8,
   "id": "3d1565e3",
   "metadata": {},
   "outputs": [],
   "source": [
    "\n",
    "movies = movies[['id', 'title', 'overview', 'genres', 'vote_average', 'tagline', 'poster_path']]\n"
   ]
  },
  {
   "cell_type": "code",
   "execution_count": 9,
   "id": "7bac3835",
   "metadata": {},
   "outputs": [
    {
     "name": "stdout",
     "output_type": "stream",
     "text": [
      "\n",
      "Modified dataset:\n",
      "             id                                              title  \\\n",
      "0         27205                                          Inception   \n",
      "1        157336                                       Interstellar   \n",
      "2           155                                    The Dark Knight   \n",
      "3         19995                                             Avatar   \n",
      "4         24428                                       The Avengers   \n",
      "...         ...                                                ...   \n",
      "978738   653113                      내 꿈은 컬러 꿈 #1 : the Green Moon   \n",
      "978739   653114                         내 꿈은 컬러꿈 #2 : the Red Door   \n",
      "978740   653115                                    Johannes Larsen   \n",
      "978741   653116                     내 꿈은 컬러 꿈 #3 : the Purple Rain   \n",
      "978742  1230175  THE GODFATHER, CODA: THE DEATH OF MICHAEL CORL...   \n",
      "\n",
      "                                                 overview  \\\n",
      "0       Cobb, a skilled thief who commits corporate es...   \n",
      "1       The adventures of a group of explorers who mak...   \n",
      "2       Batman raises the stakes in his war on crime. ...   \n",
      "3       In the 22nd century, a paraplegic Marine is di...   \n",
      "4       When an unexpected enemy emerges and threatens...   \n",
      "...                                                   ...   \n",
      "978738                                                NaN   \n",
      "978739                                                NaN   \n",
      "978740  Johannes Larsen (1867-1961) walks with his dog...   \n",
      "978741                                                NaN   \n",
      "978742                                                NaN   \n",
      "\n",
      "                                             genres  vote_average  \\\n",
      "0                Action, Science Fiction, Adventure         8.364   \n",
      "1                 Adventure, Drama, Science Fiction         8.417   \n",
      "2                    Drama, Action, Crime, Thriller         8.512   \n",
      "3       Action, Adventure, Fantasy, Science Fiction         7.573   \n",
      "4                Science Fiction, Action, Adventure         7.710   \n",
      "...                                             ...           ...   \n",
      "978738                                        Drama         0.000   \n",
      "978739                                          NaN         0.000   \n",
      "978740                                  Documentary         0.000   \n",
      "978741                                          NaN         0.000   \n",
      "978742                                          NaN         0.000   \n",
      "\n",
      "                                                  tagline  \\\n",
      "0                    Your mind is the scene of the crime.   \n",
      "1       Mankind was born on Earth. It was never meant ...   \n",
      "2                       Welcome to a world without rules.   \n",
      "3                             Enter the world of Pandora.   \n",
      "4                                 Some assembly required.   \n",
      "...                                                   ...   \n",
      "978738                                                NaN   \n",
      "978739                                                NaN   \n",
      "978740                                                NaN   \n",
      "978741                                                NaN   \n",
      "978742                                                NaN   \n",
      "\n",
      "                             poster_path  \n",
      "0       /oYuLEt3zVCKq57qu2F8dT7NIa6f.jpg  \n",
      "1       /gEU2QniE6E77NI6lCU6MxlNBvIx.jpg  \n",
      "2       /qJ2tW6WMUDux911r6m7haRef0WH.jpg  \n",
      "3       /kyeqWdyUXW608qlYkRqosgbbJyK.jpg  \n",
      "4        /RYMX2wcKCBAr24UyPD7xwmjaTn.jpg  \n",
      "...                                  ...  \n",
      "978738  /zaE5o7mIwfhOJTaBPhkhhsVfgwO.jpg  \n",
      "978739  /4HrT3plqzEblw2O5BGSLXPpQiw9.jpg  \n",
      "978740                               NaN  \n",
      "978741  /kjhzhsAxZBSCYuSnE4Kccfnjw8N.jpg  \n",
      "978742                               NaN  \n",
      "\n",
      "[978743 rows x 7 columns]\n"
     ]
    }
   ],
   "source": [
    "\n",
    "print(\"\\nModified dataset:\")\n",
    "print(movies)"
   ]
  },
  {
   "cell_type": "code",
   "execution_count": 10,
   "id": "d3b22cca",
   "metadata": {},
   "outputs": [],
   "source": [
    "\n",
    "movies['tags'] = movies['overview'] + movies['genres']\n"
   ]
  },
  {
   "cell_type": "code",
   "execution_count": 11,
   "id": "4f169c6c",
   "metadata": {},
   "outputs": [
    {
     "name": "stdout",
     "output_type": "stream",
     "text": [
      "\n",
      "Dataset after adding 'tags' column:\n",
      "             id                                              title  \\\n",
      "0         27205                                          Inception   \n",
      "1        157336                                       Interstellar   \n",
      "2           155                                    The Dark Knight   \n",
      "3         19995                                             Avatar   \n",
      "4         24428                                       The Avengers   \n",
      "...         ...                                                ...   \n",
      "978738   653113                      내 꿈은 컬러 꿈 #1 : the Green Moon   \n",
      "978739   653114                         내 꿈은 컬러꿈 #2 : the Red Door   \n",
      "978740   653115                                    Johannes Larsen   \n",
      "978741   653116                     내 꿈은 컬러 꿈 #3 : the Purple Rain   \n",
      "978742  1230175  THE GODFATHER, CODA: THE DEATH OF MICHAEL CORL...   \n",
      "\n",
      "                                                 overview  \\\n",
      "0       Cobb, a skilled thief who commits corporate es...   \n",
      "1       The adventures of a group of explorers who mak...   \n",
      "2       Batman raises the stakes in his war on crime. ...   \n",
      "3       In the 22nd century, a paraplegic Marine is di...   \n",
      "4       When an unexpected enemy emerges and threatens...   \n",
      "...                                                   ...   \n",
      "978738                                                NaN   \n",
      "978739                                                NaN   \n",
      "978740  Johannes Larsen (1867-1961) walks with his dog...   \n",
      "978741                                                NaN   \n",
      "978742                                                NaN   \n",
      "\n",
      "                                             genres  vote_average  \\\n",
      "0                Action, Science Fiction, Adventure         8.364   \n",
      "1                 Adventure, Drama, Science Fiction         8.417   \n",
      "2                    Drama, Action, Crime, Thriller         8.512   \n",
      "3       Action, Adventure, Fantasy, Science Fiction         7.573   \n",
      "4                Science Fiction, Action, Adventure         7.710   \n",
      "...                                             ...           ...   \n",
      "978738                                        Drama         0.000   \n",
      "978739                                          NaN         0.000   \n",
      "978740                                  Documentary         0.000   \n",
      "978741                                          NaN         0.000   \n",
      "978742                                          NaN         0.000   \n",
      "\n",
      "                                                  tagline  \\\n",
      "0                    Your mind is the scene of the crime.   \n",
      "1       Mankind was born on Earth. It was never meant ...   \n",
      "2                       Welcome to a world without rules.   \n",
      "3                             Enter the world of Pandora.   \n",
      "4                                 Some assembly required.   \n",
      "...                                                   ...   \n",
      "978738                                                NaN   \n",
      "978739                                                NaN   \n",
      "978740                                                NaN   \n",
      "978741                                                NaN   \n",
      "978742                                                NaN   \n",
      "\n",
      "                             poster_path  \\\n",
      "0       /oYuLEt3zVCKq57qu2F8dT7NIa6f.jpg   \n",
      "1       /gEU2QniE6E77NI6lCU6MxlNBvIx.jpg   \n",
      "2       /qJ2tW6WMUDux911r6m7haRef0WH.jpg   \n",
      "3       /kyeqWdyUXW608qlYkRqosgbbJyK.jpg   \n",
      "4        /RYMX2wcKCBAr24UyPD7xwmjaTn.jpg   \n",
      "...                                  ...   \n",
      "978738  /zaE5o7mIwfhOJTaBPhkhhsVfgwO.jpg   \n",
      "978739  /4HrT3plqzEblw2O5BGSLXPpQiw9.jpg   \n",
      "978740                               NaN   \n",
      "978741  /kjhzhsAxZBSCYuSnE4Kccfnjw8N.jpg   \n",
      "978742                               NaN   \n",
      "\n",
      "                                                     tags  \n",
      "0       Cobb, a skilled thief who commits corporate es...  \n",
      "1       The adventures of a group of explorers who mak...  \n",
      "2       Batman raises the stakes in his war on crime. ...  \n",
      "3       In the 22nd century, a paraplegic Marine is di...  \n",
      "4       When an unexpected enemy emerges and threatens...  \n",
      "...                                                   ...  \n",
      "978738                                                NaN  \n",
      "978739                                                NaN  \n",
      "978740  Johannes Larsen (1867-1961) walks with his dog...  \n",
      "978741                                                NaN  \n",
      "978742                                                NaN  \n",
      "\n",
      "[978743 rows x 8 columns]\n"
     ]
    }
   ],
   "source": [
    "\n",
    "print(\"\\nDataset after adding 'tags' column:\")\n",
    "print(movies)"
   ]
  },
  {
   "cell_type": "code",
   "execution_count": 12,
   "id": "59acd7e2",
   "metadata": {},
   "outputs": [
    {
     "name": "stdout",
     "output_type": "stream",
     "text": [
      "\n",
      "New dataset without 'overview' and 'genres' columns:\n",
      "             id                                              title  \\\n",
      "0         27205                                          Inception   \n",
      "1        157336                                       Interstellar   \n",
      "2           155                                    The Dark Knight   \n",
      "3         19995                                             Avatar   \n",
      "4         24428                                       The Avengers   \n",
      "...         ...                                                ...   \n",
      "978738   653113                      내 꿈은 컬러 꿈 #1 : the Green Moon   \n",
      "978739   653114                         내 꿈은 컬러꿈 #2 : the Red Door   \n",
      "978740   653115                                    Johannes Larsen   \n",
      "978741   653116                     내 꿈은 컬러 꿈 #3 : the Purple Rain   \n",
      "978742  1230175  THE GODFATHER, CODA: THE DEATH OF MICHAEL CORL...   \n",
      "\n",
      "        vote_average                                            tagline  \\\n",
      "0              8.364               Your mind is the scene of the crime.   \n",
      "1              8.417  Mankind was born on Earth. It was never meant ...   \n",
      "2              8.512                  Welcome to a world without rules.   \n",
      "3              7.573                        Enter the world of Pandora.   \n",
      "4              7.710                            Some assembly required.   \n",
      "...              ...                                                ...   \n",
      "978738         0.000                                                NaN   \n",
      "978739         0.000                                                NaN   \n",
      "978740         0.000                                                NaN   \n",
      "978741         0.000                                                NaN   \n",
      "978742         0.000                                                NaN   \n",
      "\n",
      "                             poster_path  \\\n",
      "0       /oYuLEt3zVCKq57qu2F8dT7NIa6f.jpg   \n",
      "1       /gEU2QniE6E77NI6lCU6MxlNBvIx.jpg   \n",
      "2       /qJ2tW6WMUDux911r6m7haRef0WH.jpg   \n",
      "3       /kyeqWdyUXW608qlYkRqosgbbJyK.jpg   \n",
      "4        /RYMX2wcKCBAr24UyPD7xwmjaTn.jpg   \n",
      "...                                  ...   \n",
      "978738  /zaE5o7mIwfhOJTaBPhkhhsVfgwO.jpg   \n",
      "978739  /4HrT3plqzEblw2O5BGSLXPpQiw9.jpg   \n",
      "978740                               NaN   \n",
      "978741  /kjhzhsAxZBSCYuSnE4Kccfnjw8N.jpg   \n",
      "978742                               NaN   \n",
      "\n",
      "                                                     tags  \n",
      "0       Cobb, a skilled thief who commits corporate es...  \n",
      "1       The adventures of a group of explorers who mak...  \n",
      "2       Batman raises the stakes in his war on crime. ...  \n",
      "3       In the 22nd century, a paraplegic Marine is di...  \n",
      "4       When an unexpected enemy emerges and threatens...  \n",
      "...                                                   ...  \n",
      "978738                                                NaN  \n",
      "978739                                                NaN  \n",
      "978740  Johannes Larsen (1867-1961) walks with his dog...  \n",
      "978741                                                NaN  \n",
      "978742                                                NaN  \n",
      "\n",
      "[978743 rows x 6 columns]\n"
     ]
    }
   ],
   "source": [
    "\n",
    "my_new_data = movies.drop(columns=['overview', 'genres'])\n",
    "\n",
    "print(\"\\nNew dataset without 'overview' and 'genres' columns:\")\n",
    "print(my_new_data)"
   ]
  },
  {
   "cell_type": "code",
   "execution_count": 13,
   "id": "20154469",
   "metadata": {},
   "outputs": [],
   "source": [
    "\n",
    "def clean_title(title: str) -> str:\n",
    "    \"\"\"\n",
    "    Clean a movie title by removing non-alphanumeric characters.\n",
    "    \"\"\"\n",
    "    if isinstance(title, str):\n",
    "        return re.sub(\"[^a-zA-Z0-9]\", \"\", title)\n",
    "    else:\n",
    "        return \"\"\n",
    "\n",
    "movies[\"clean_title\"] = movies[\"title\"].apply(clean_title)\n",
    "\n",
    "movies[\"clean_title\"].fillna(\"\", inplace=True)\n",
    "\n"
   ]
  },
  {
   "cell_type": "code",
   "execution_count": 14,
   "id": "938998fc",
   "metadata": {},
   "outputs": [],
   "source": [
    "\n",
    "my_new_data['title'].fillna('', inplace=True)\n",
    "my_new_data['tags'].fillna('', inplace=True)\n",
    "\n",
    "vectorizer = TfidfVectorizer(ngram_range=(1, 2))\n",
    "tfidf = vectorizer.fit_transform(my_new_data['title'] + my_new_data['tags'])\n"
   ]
  },
  {
   "cell_type": "code",
   "execution_count": 15,
   "id": "80fccf59",
   "metadata": {},
   "outputs": [],
   "source": [
    "def search(title: str, num_results=5) -> pd.DataFrame:\n",
    "    \"\"\"\n",
    "    Search for movies similar to a given title using item-based filtering.\n",
    "    \"\"\"\n",
    "    title = clean_title(title)\n",
    "    if not title:\n",
    "        return pd.DataFrame()\n",
    "\n",
    "    query_vec = vectorizer.transform([title])\n",
    "    similarity = cosine_similarity(query_vec, tfidf).flatten()\n",
    "    indices = np.argsort(similarity)[-num_results:][::-1]\n",
    "    results1 = movies[['id', 'title', 'vote_average', 'genres']].iloc[indices].reset_index(drop=True)\n",
    "\n",
    "    return results1\n"
   ]
  },
  {
   "cell_type": "code",
   "execution_count": 16,
   "id": "88e6a242",
   "metadata": {},
   "outputs": [
    {
     "data": {
      "application/vnd.jupyter.widget-view+json": {
       "model_id": "5a8fb1be1aba4528b8224ef88eb2fc07",
       "version_major": 2,
       "version_minor": 0
      },
      "text/plain": [
       "Text(value='Toy Story', description='Movie Title:')"
      ]
     },
     "metadata": {},
     "output_type": "display_data"
    },
    {
     "data": {
      "application/vnd.jupyter.widget-view+json": {
       "model_id": "46a47b90e37a4586a15632f3d988f9e4",
       "version_major": 2,
       "version_minor": 0
      },
      "text/plain": [
       "Output()"
      ]
     },
     "metadata": {},
     "output_type": "display_data"
    }
   ],
   "source": [
    "\n",
    "movie_input = widgets.Text(\n",
    "    value='Toy Story',\n",
    "    description='Movie Title:',\n",
    "    disabled=False\n",
    ")\n",
    "movie_list = widgets.Output()\n",
    "\n",
    "def on_type(data):\n",
    "    with movie_list:\n",
    "        movie_list.clear_output()\n",
    "        title = data[\"new\"]\n",
    "        if len(title) > 5:\n",
    "            display(search(title))\n",
    "\n",
    "movie_input.observe(on_type, names='value')\n",
    "\n",
    "display(movie_input, movie_list)"
   ]
  },
  {
   "cell_type": "code",
   "execution_count": 17,
   "id": "adb61fea",
   "metadata": {},
   "outputs": [],
   "source": [
    "\n",
    "@lru_cache(maxsize=128)\n",
    "def find_similars(movie_id: int, num_results=5) -> pd.DataFrame:\n",
    "    \"\"\"\n",
    "    Find similar movies to a given movie using user-based collaborative filtering.\n",
    "    \"\"\"\n",
    "    \n",
    "    if movie_id not in movies['id'].values:\n",
    "        print(f\"Movie with ID {movie_id} not found.\")\n",
    "        return pd.DataFrame()\n",
    "\n",
    "\n",
    "    movie_title = movies.loc[movies['id'] == movie_id, 'title'].values[0]\n",
    "\n",
    "\n",
    "    similars = search(movie_title, num_results)\n",
    "    return similars\n"
   ]
  },
  {
   "cell_type": "code",
   "execution_count": 21,
   "id": "46e378b6",
   "metadata": {},
   "outputs": [
    {
     "data": {
      "application/vnd.jupyter.widget-view+json": {
       "model_id": "c3bb4cdf61704c3aa845be1563c9acb7",
       "version_major": 2,
       "version_minor": 0
      },
      "text/plain": [
       "BoundedIntText(value=1, description='Movie ID:', max=10000, min=1)"
      ]
     },
     "metadata": {},
     "output_type": "display_data"
    },
    {
     "data": {
      "application/vnd.jupyter.widget-view+json": {
       "model_id": "13e07d946d9a408780e42a92ca07caeb",
       "version_major": 2,
       "version_minor": 0
      },
      "text/plain": [
       "Output()"
      ]
     },
     "metadata": {},
     "output_type": "display_data"
    }
   ],
   "source": [
    "\n",
    "user_input = widgets.BoundedIntText(\n",
    "    value=1,\n",
    "    min=1,\n",
    "    max=10000,\n",
    "    step=1,\n",
    "    description='Movie ID:',\n",
    "    disabled=False\n",
    ")\n",
    "user_rec_list = widgets.Output()\n",
    "\n",
    "def on_user_input(data):\n",
    "    with user_rec_list:\n",
    "        user_rec_list.clear_output()\n",
    "        movie_id = data[\"new\"]\n",
    "        display(find_similars(movie_id))\n",
    "\n",
    "user_input.observe(on_user_input, names='value')\n",
    "\n",
    "display(user_input, user_rec_list)\n"
   ]
  },
  {
   "cell_type": "code",
   "execution_count": null,
   "id": "8ed6df12",
   "metadata": {},
   "outputs": [],
   "source": []
  }
 ],
 "metadata": {
  "kernelspec": {
   "display_name": "Python 3 (ipykernel)",
   "language": "python",
   "name": "python3"
  },
  "language_info": {
   "codemirror_mode": {
    "name": "ipython",
    "version": 3
   },
   "file_extension": ".py",
   "mimetype": "text/x-python",
   "name": "python",
   "nbconvert_exporter": "python",
   "pygments_lexer": "ipython3",
   "version": "3.11.5"
  }
 },
 "nbformat": 4,
 "nbformat_minor": 5
}
